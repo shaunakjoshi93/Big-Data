{
    "nbformat_minor": 1, 
    "metadata": {
        "kernelspec": {
            "language": "python", 
            "name": "python2-spark21", 
            "display_name": "Python 2 with Spark 2.1"
        }
    }, 
    "nbformat": 4, 
    "cells": [
        {
            "execution_count": 53, 
            "metadata": {
                "collapsed": true
            }, 
            "source": "# The code was removed by DSX for sharing.", 
            "outputs": [], 
            "cell_type": "code"
        }, 
        {
            "execution_count": 59, 
            "metadata": {
                "collapsed": true
            }, 
            "source": "import pandas as pd\ndf = (df.withColumn('Age',df['Age'].cast('double'))\n            .withColumn('SibSp',df['SibSp'].cast('double'))\n            .withColumn('Parch',df['Parch'].cast('double'))\n            .withColumn('Fare',df['Fare'].cast('double'))\n            .withColumn('Survived',df['Survived'].cast('double')))", 
            "outputs": [], 
            "cell_type": "code"
        }, 
        {
            "execution_count": 60, 
            "metadata": {}, 
            "source": "df.count()", 
            "outputs": [
                {
                    "execution_count": 60, 
                    "metadata": {}, 
                    "data": {
                        "text/plain": "891"
                    }, 
                    "output_type": "execute_result"
                }
            ], 
            "cell_type": "code"
        }, 
        {
            "execution_count": 84, 
            "metadata": {
                "collapsed": true
            }, 
            "source": "numVars = ['Survived','Age','SibSp','Parch','Fare']\ndef countNull(df,var):\n    return df.where(df[var].isNull()).count()\n \nmissing = {var: countNull(df,var) for var in numVars}\nage_mean = df.groupBy().mean('Age').first()[0]\nfare_mean = df.groupBy().mean('Fare').first()[0]\ndf = df.na.fill({'Age':age_mean, 'Fare':fare_mean, 'Survived':0, 'SibSp': 0, 'Parch': 0, 'Pclass': 'Null', 'Sex': 'Null', 'Ticket': 'Null', 'Embarked': 'Null'})", 
            "outputs": [], 
            "cell_type": "code"
        }, 
        {
            "execution_count": 85, 
            "metadata": {}, 
            "source": "df.count()", 
            "outputs": [
                {
                    "execution_count": 85, 
                    "metadata": {}, 
                    "data": {
                        "text/plain": "891"
                    }, 
                    "output_type": "execute_result"
                }
            ], 
            "cell_type": "code"
        }, 
        {
            "execution_count": 86, 
            "metadata": {
                "collapsed": true
            }, 
            "source": "df = df.drop('Cabin', 'PassengerId')", 
            "outputs": [], 
            "cell_type": "code"
        }, 
        {
            "execution_count": 87, 
            "metadata": {}, 
            "source": "df.count()", 
            "outputs": [
                {
                    "execution_count": 87, 
                    "metadata": {}, 
                    "data": {
                        "text/plain": "891"
                    }, 
                    "output_type": "execute_result"
                }
            ], 
            "cell_type": "code"
        }, 
        {
            "execution_count": 88, 
            "metadata": {}, 
            "source": "df = df.na.drop()", 
            "outputs": [
                {
                    "execution_count": 88, 
                    "metadata": {}, 
                    "data": {
                        "text/plain": "891"
                    }, 
                    "output_type": "execute_result"
                }
            ], 
            "cell_type": "code"
        }, 
        {
            "execution_count": 89, 
            "metadata": {}, 
            "source": "df.count()", 
            "outputs": [
                {
                    "execution_count": 89, 
                    "metadata": {}, 
                    "data": {
                        "text/plain": "891"
                    }, 
                    "output_type": "execute_result"
                }
            ], 
            "cell_type": "code"
        }, 
        {
            "execution_count": 90, 
            "metadata": {}, 
            "source": "df.printSchema()", 
            "outputs": [
                {
                    "name": "stdout", 
                    "output_type": "stream", 
                    "text": "root\n |-- Survived: double (nullable = false)\n |-- Pclass: string (nullable = false)\n |-- Sex: string (nullable = false)\n |-- Age: double (nullable = false)\n |-- SibSp: double (nullable = false)\n |-- Parch: double (nullable = false)\n |-- Ticket: string (nullable = false)\n |-- Fare: double (nullable = false)\n |-- Embarked: string (nullable = false)\n |-- Title: string (nullable = true)\n\n"
                }
            ], 
            "cell_type": "code"
        }, 
        {
            "execution_count": 91, 
            "metadata": {}, 
            "source": "from pyspark.sql.functions import udf\nfrom pyspark.sql.types import StringType\n \n## created user defined function to extract title\ngetTitle = udf(lambda name: name.split('.')[0].strip(),StringType())\ndf = df.withColumn('Title', getTitle(df['Name']))\ndf = df.drop('Name')", 
            "outputs": [
                {
                    "ename": "AnalysisException", 
                    "evalue": "u'Cannot resolve column name \"Name\" among (Survived, Pclass, Sex, Age, SibSp, Parch, Ticket, Fare, Embarked, Title);'", 
                    "output_type": "error", 
                    "traceback": [
                        "\u001b[0;31m\u001b[0m", 
                        "\u001b[0;31mAnalysisException\u001b[0mTraceback (most recent call last)", 
                        "\u001b[0;32m<ipython-input-91-e44a2c530ea2>\u001b[0m in \u001b[0;36m<module>\u001b[0;34m()\u001b[0m\n\u001b[1;32m      4\u001b[0m \u001b[0;31m## created user defined function to extract title\u001b[0m\u001b[0;34m\u001b[0m\u001b[0;34m\u001b[0m\u001b[0m\n\u001b[1;32m      5\u001b[0m \u001b[0mgetTitle\u001b[0m \u001b[0;34m=\u001b[0m \u001b[0mudf\u001b[0m\u001b[0;34m(\u001b[0m\u001b[0;32mlambda\u001b[0m \u001b[0mname\u001b[0m\u001b[0;34m:\u001b[0m \u001b[0mname\u001b[0m\u001b[0;34m.\u001b[0m\u001b[0msplit\u001b[0m\u001b[0;34m(\u001b[0m\u001b[0;34m'.'\u001b[0m\u001b[0;34m)\u001b[0m\u001b[0;34m[\u001b[0m\u001b[0;36m0\u001b[0m\u001b[0;34m]\u001b[0m\u001b[0;34m.\u001b[0m\u001b[0mstrip\u001b[0m\u001b[0;34m(\u001b[0m\u001b[0;34m)\u001b[0m\u001b[0;34m,\u001b[0m\u001b[0mStringType\u001b[0m\u001b[0;34m(\u001b[0m\u001b[0;34m)\u001b[0m\u001b[0;34m)\u001b[0m\u001b[0;34m\u001b[0m\u001b[0m\n\u001b[0;32m----> 6\u001b[0;31m \u001b[0mdf\u001b[0m \u001b[0;34m=\u001b[0m \u001b[0mdf\u001b[0m\u001b[0;34m.\u001b[0m\u001b[0mwithColumn\u001b[0m\u001b[0;34m(\u001b[0m\u001b[0;34m'Title'\u001b[0m\u001b[0;34m,\u001b[0m \u001b[0mgetTitle\u001b[0m\u001b[0;34m(\u001b[0m\u001b[0mdf\u001b[0m\u001b[0;34m[\u001b[0m\u001b[0;34m'Name'\u001b[0m\u001b[0;34m]\u001b[0m\u001b[0;34m)\u001b[0m\u001b[0;34m)\u001b[0m\u001b[0;34m\u001b[0m\u001b[0m\n\u001b[0m\u001b[1;32m      7\u001b[0m \u001b[0mdf\u001b[0m \u001b[0;34m=\u001b[0m \u001b[0mdf\u001b[0m\u001b[0;34m.\u001b[0m\u001b[0mdrop\u001b[0m\u001b[0;34m(\u001b[0m\u001b[0;34m'Name'\u001b[0m\u001b[0;34m)\u001b[0m\u001b[0;34m\u001b[0m\u001b[0m\n", 
                        "\u001b[0;32m/usr/local/src/spark21master/spark/python/pyspark/sql/dataframe.py\u001b[0m in \u001b[0;36m__getitem__\u001b[0;34m(self, item)\u001b[0m\n\u001b[1;32m    941\u001b[0m         \"\"\"\n\u001b[1;32m    942\u001b[0m         \u001b[0;32mif\u001b[0m \u001b[0misinstance\u001b[0m\u001b[0;34m(\u001b[0m\u001b[0mitem\u001b[0m\u001b[0;34m,\u001b[0m \u001b[0mbasestring\u001b[0m\u001b[0;34m)\u001b[0m\u001b[0;34m:\u001b[0m\u001b[0;34m\u001b[0m\u001b[0m\n\u001b[0;32m--> 943\u001b[0;31m             \u001b[0mjc\u001b[0m \u001b[0;34m=\u001b[0m \u001b[0mself\u001b[0m\u001b[0;34m.\u001b[0m\u001b[0m_jdf\u001b[0m\u001b[0;34m.\u001b[0m\u001b[0mapply\u001b[0m\u001b[0;34m(\u001b[0m\u001b[0mitem\u001b[0m\u001b[0;34m)\u001b[0m\u001b[0;34m\u001b[0m\u001b[0m\n\u001b[0m\u001b[1;32m    944\u001b[0m             \u001b[0;32mreturn\u001b[0m \u001b[0mColumn\u001b[0m\u001b[0;34m(\u001b[0m\u001b[0mjc\u001b[0m\u001b[0;34m)\u001b[0m\u001b[0;34m\u001b[0m\u001b[0m\n\u001b[1;32m    945\u001b[0m         \u001b[0;32melif\u001b[0m \u001b[0misinstance\u001b[0m\u001b[0;34m(\u001b[0m\u001b[0mitem\u001b[0m\u001b[0;34m,\u001b[0m \u001b[0mColumn\u001b[0m\u001b[0;34m)\u001b[0m\u001b[0;34m:\u001b[0m\u001b[0;34m\u001b[0m\u001b[0m\n", 
                        "\u001b[0;32m/usr/local/src/spark21master/spark/python/lib/py4j-0.10.4-src.zip/py4j/java_gateway.py\u001b[0m in \u001b[0;36m__call__\u001b[0;34m(self, *args)\u001b[0m\n\u001b[1;32m   1131\u001b[0m         \u001b[0manswer\u001b[0m \u001b[0;34m=\u001b[0m \u001b[0mself\u001b[0m\u001b[0;34m.\u001b[0m\u001b[0mgateway_client\u001b[0m\u001b[0;34m.\u001b[0m\u001b[0msend_command\u001b[0m\u001b[0;34m(\u001b[0m\u001b[0mcommand\u001b[0m\u001b[0;34m)\u001b[0m\u001b[0;34m\u001b[0m\u001b[0m\n\u001b[1;32m   1132\u001b[0m         return_value = get_return_value(\n\u001b[0;32m-> 1133\u001b[0;31m             answer, self.gateway_client, self.target_id, self.name)\n\u001b[0m\u001b[1;32m   1134\u001b[0m \u001b[0;34m\u001b[0m\u001b[0m\n\u001b[1;32m   1135\u001b[0m         \u001b[0;32mfor\u001b[0m \u001b[0mtemp_arg\u001b[0m \u001b[0;32min\u001b[0m \u001b[0mtemp_args\u001b[0m\u001b[0;34m:\u001b[0m\u001b[0;34m\u001b[0m\u001b[0m\n", 
                        "\u001b[0;32m/usr/local/src/spark21master/spark/python/pyspark/sql/utils.py\u001b[0m in \u001b[0;36mdeco\u001b[0;34m(*a, **kw)\u001b[0m\n\u001b[1;32m     67\u001b[0m                                              e.java_exception.getStackTrace()))\n\u001b[1;32m     68\u001b[0m             \u001b[0;32mif\u001b[0m \u001b[0ms\u001b[0m\u001b[0;34m.\u001b[0m\u001b[0mstartswith\u001b[0m\u001b[0;34m(\u001b[0m\u001b[0;34m'org.apache.spark.sql.AnalysisException: '\u001b[0m\u001b[0;34m)\u001b[0m\u001b[0;34m:\u001b[0m\u001b[0;34m\u001b[0m\u001b[0m\n\u001b[0;32m---> 69\u001b[0;31m                 \u001b[0;32mraise\u001b[0m \u001b[0mAnalysisException\u001b[0m\u001b[0;34m(\u001b[0m\u001b[0ms\u001b[0m\u001b[0;34m.\u001b[0m\u001b[0msplit\u001b[0m\u001b[0;34m(\u001b[0m\u001b[0;34m': '\u001b[0m\u001b[0;34m,\u001b[0m \u001b[0;36m1\u001b[0m\u001b[0;34m)\u001b[0m\u001b[0;34m[\u001b[0m\u001b[0;36m1\u001b[0m\u001b[0;34m]\u001b[0m\u001b[0;34m,\u001b[0m \u001b[0mstackTrace\u001b[0m\u001b[0;34m)\u001b[0m\u001b[0;34m\u001b[0m\u001b[0m\n\u001b[0m\u001b[1;32m     70\u001b[0m             \u001b[0;32mif\u001b[0m \u001b[0ms\u001b[0m\u001b[0;34m.\u001b[0m\u001b[0mstartswith\u001b[0m\u001b[0;34m(\u001b[0m\u001b[0;34m'org.apache.spark.sql.catalyst.analysis'\u001b[0m\u001b[0;34m)\u001b[0m\u001b[0;34m:\u001b[0m\u001b[0;34m\u001b[0m\u001b[0m\n\u001b[1;32m     71\u001b[0m                 \u001b[0;32mraise\u001b[0m \u001b[0mAnalysisException\u001b[0m\u001b[0;34m(\u001b[0m\u001b[0ms\u001b[0m\u001b[0;34m.\u001b[0m\u001b[0msplit\u001b[0m\u001b[0;34m(\u001b[0m\u001b[0;34m': '\u001b[0m\u001b[0;34m,\u001b[0m \u001b[0;36m1\u001b[0m\u001b[0;34m)\u001b[0m\u001b[0;34m[\u001b[0m\u001b[0;36m1\u001b[0m\u001b[0;34m]\u001b[0m\u001b[0;34m,\u001b[0m \u001b[0mstackTrace\u001b[0m\u001b[0;34m)\u001b[0m\u001b[0;34m\u001b[0m\u001b[0m\n", 
                        "\u001b[0;31mAnalysisException\u001b[0m: u'Cannot resolve column name \"Name\" among (Survived, Pclass, Sex, Age, SibSp, Parch, Ticket, Fare, Embarked, Title);'"
                    ]
                }
            ], 
            "cell_type": "code"
        }, 
        {
            "execution_count": 92, 
            "metadata": {
                "collapsed": true
            }, 
            "source": "###One-Hot Encoding\nfrom pyspark.ml import Pipeline\nfrom pyspark.ml.feature import OneHotEncoder, StringIndexer, VectorAssembler\n\ncategoricalColumns = [\"Title\",\"Pclass\", \"Sex\", \"Ticket\", \"Embarked\"]\nstages = [] # stages in our Pipeline\nfor categoricalCol in categoricalColumns:\n  # Category Indexing with StringIndexer\n  stringIndexer = StringIndexer(inputCol=categoricalCol, outputCol=categoricalCol+\"Index\")\n  # Use OneHotEncoder to convert categorical variables into binary SparseVectors\n  encoder = OneHotEncoder(inputCol=categoricalCol+\"Index\", outputCol=categoricalCol+\"classVec\")\n  # Add stages.  These are not run here, but will run all at once later on.\n  stages += [stringIndexer,encoder]", 
            "outputs": [], 
            "cell_type": "code"
        }, 
        {
            "execution_count": 93, 
            "metadata": {
                "collapsed": true
            }, 
            "source": "# Convert label into label indices using the StringIndexer\nlabel_stringIdx = StringIndexer(inputCol = \"Survived\", outputCol = \"label\")\nstages += [label_stringIdx]", 
            "outputs": [], 
            "cell_type": "code"
        }, 
        {
            "execution_count": 94, 
            "metadata": {
                "collapsed": true
            }, 
            "source": "# Transform all features into a vector using VectorAssembler\nnumericCols = [\"Age\", \"SibSp\",\"Parch\", \"Fare\"]\nassemblerInputs = map(lambda c: c + \"classVec\", categoricalColumns) + numericCols\nassembler = VectorAssembler(inputCols=assemblerInputs, outputCol=\"features\")\nstages += [assembler]", 
            "outputs": [], 
            "cell_type": "code"
        }, 
        {
            "execution_count": 95, 
            "metadata": {}, 
            "source": "df.printSchema()", 
            "outputs": [
                {
                    "name": "stdout", 
                    "output_type": "stream", 
                    "text": "root\n |-- Survived: double (nullable = false)\n |-- Pclass: string (nullable = false)\n |-- Sex: string (nullable = false)\n |-- Age: double (nullable = false)\n |-- SibSp: double (nullable = false)\n |-- Parch: double (nullable = false)\n |-- Ticket: string (nullable = false)\n |-- Fare: double (nullable = false)\n |-- Embarked: string (nullable = false)\n |-- Title: string (nullable = true)\n\n"
                }
            ], 
            "cell_type": "code"
        }, 
        {
            "execution_count": 96, 
            "metadata": {
                "collapsed": true
            }, 
            "source": "cols = df.columns\n# Create a Pipeline.\npipeline = Pipeline(stages=stages)\n# Run the feature transformations.\n#  - fit() computes feature statistics as needed.\n#  - transform() actually transforms the features.\npipelineModel = pipeline.fit(df)\ndataset = pipelineModel.transform(df)", 
            "outputs": [], 
            "cell_type": "code"
        }, 
        {
            "execution_count": 97, 
            "metadata": {}, 
            "source": "# Keep relevant columns\nselectedcols = [\"label\", \"features\"] + cols\ndataset = dataset.select(selectedcols)\ndataset.toPandas()", 
            "outputs": [
                {
                    "execution_count": 97, 
                    "metadata": {}, 
                    "data": {
                        "text/html": "<div>\n<table border=\"1\" class=\"dataframe\">\n  <thead>\n    <tr style=\"text-align: right;\">\n      <th></th>\n      <th>label</th>\n      <th>features</th>\n      <th>Survived</th>\n      <th>Pclass</th>\n      <th>Sex</th>\n      <th>Age</th>\n      <th>SibSp</th>\n      <th>Parch</th>\n      <th>Ticket</th>\n      <th>Fare</th>\n      <th>Embarked</th>\n      <th>Title</th>\n    </tr>\n  </thead>\n  <tbody>\n    <tr>\n      <th>0</th>\n      <td>0</td>\n      <td>(0.0, 0.0, 0.0, 0.0, 0.0, 0.0, 0.0, 0.0, 0.0, ...</td>\n      <td>0</td>\n      <td>3</td>\n      <td>male</td>\n      <td>22.000000</td>\n      <td>1</td>\n      <td>0</td>\n      <td>A/5 21171</td>\n      <td>7.2500</td>\n      <td>S</td>\n      <td>Braund, Mr</td>\n    </tr>\n    <tr>\n      <th>1</th>\n      <td>1</td>\n      <td>(0.0, 0.0, 0.0, 0.0, 0.0, 0.0, 0.0, 0.0, 0.0, ...</td>\n      <td>1</td>\n      <td>1</td>\n      <td>female</td>\n      <td>38.000000</td>\n      <td>1</td>\n      <td>0</td>\n      <td>PC 17599</td>\n      <td>71.2833</td>\n      <td>C</td>\n      <td>Cumings, Mrs</td>\n    </tr>\n    <tr>\n      <th>2</th>\n      <td>1</td>\n      <td>(0.0, 0.0, 0.0, 0.0, 0.0, 0.0, 0.0, 0.0, 0.0, ...</td>\n      <td>1</td>\n      <td>3</td>\n      <td>female</td>\n      <td>26.000000</td>\n      <td>0</td>\n      <td>0</td>\n      <td>STON/O2. 3101282</td>\n      <td>7.9250</td>\n      <td>S</td>\n      <td>Heikkinen, Miss</td>\n    </tr>\n    <tr>\n      <th>3</th>\n      <td>1</td>\n      <td>(0.0, 0.0, 0.0, 0.0, 0.0, 0.0, 0.0, 0.0, 0.0, ...</td>\n      <td>1</td>\n      <td>1</td>\n      <td>female</td>\n      <td>35.000000</td>\n      <td>1</td>\n      <td>0</td>\n      <td>113803</td>\n      <td>53.1000</td>\n      <td>S</td>\n      <td>Futrelle, Mrs</td>\n    </tr>\n    <tr>\n      <th>4</th>\n      <td>0</td>\n      <td>(0.0, 0.0, 0.0, 0.0, 0.0, 0.0, 0.0, 0.0, 0.0, ...</td>\n      <td>0</td>\n      <td>3</td>\n      <td>male</td>\n      <td>35.000000</td>\n      <td>0</td>\n      <td>0</td>\n      <td>373450</td>\n      <td>8.0500</td>\n      <td>S</td>\n      <td>Allen, Mr</td>\n    </tr>\n    <tr>\n      <th>5</th>\n      <td>0</td>\n      <td>(0.0, 0.0, 0.0, 0.0, 0.0, 0.0, 0.0, 0.0, 0.0, ...</td>\n      <td>0</td>\n      <td>3</td>\n      <td>male</td>\n      <td>29.699118</td>\n      <td>0</td>\n      <td>0</td>\n      <td>330877</td>\n      <td>8.4583</td>\n      <td>Q</td>\n      <td>Moran, Mr</td>\n    </tr>\n    <tr>\n      <th>6</th>\n      <td>0</td>\n      <td>(0.0, 0.0, 0.0, 0.0, 0.0, 0.0, 0.0, 0.0, 0.0, ...</td>\n      <td>0</td>\n      <td>1</td>\n      <td>male</td>\n      <td>54.000000</td>\n      <td>0</td>\n      <td>0</td>\n      <td>17463</td>\n      <td>51.8625</td>\n      <td>S</td>\n      <td>McCarthy, Mr</td>\n    </tr>\n    <tr>\n      <th>7</th>\n      <td>0</td>\n      <td>(0.0, 0.0, 0.0, 0.0, 0.0, 0.0, 0.0, 0.0, 0.0, ...</td>\n      <td>0</td>\n      <td>3</td>\n      <td>male</td>\n      <td>2.000000</td>\n      <td>3</td>\n      <td>1</td>\n      <td>349909</td>\n      <td>21.0750</td>\n      <td>S</td>\n      <td>Palsson, Master</td>\n    </tr>\n    <tr>\n      <th>8</th>\n      <td>1</td>\n      <td>(0.0, 0.0, 0.0, 0.0, 0.0, 0.0, 0.0, 0.0, 0.0, ...</td>\n      <td>1</td>\n      <td>3</td>\n      <td>female</td>\n      <td>27.000000</td>\n      <td>0</td>\n      <td>2</td>\n      <td>347742</td>\n      <td>11.1333</td>\n      <td>S</td>\n      <td>Johnson, Mrs</td>\n    </tr>\n    <tr>\n      <th>9</th>\n      <td>1</td>\n      <td>(0.0, 0.0, 0.0, 0.0, 0.0, 0.0, 0.0, 0.0, 0.0, ...</td>\n      <td>1</td>\n      <td>2</td>\n      <td>female</td>\n      <td>14.000000</td>\n      <td>1</td>\n      <td>0</td>\n      <td>237736</td>\n      <td>30.0708</td>\n      <td>C</td>\n      <td>Nasser, Mrs</td>\n    </tr>\n    <tr>\n      <th>10</th>\n      <td>1</td>\n      <td>(0.0, 0.0, 0.0, 0.0, 0.0, 0.0, 0.0, 0.0, 0.0, ...</td>\n      <td>1</td>\n      <td>3</td>\n      <td>female</td>\n      <td>4.000000</td>\n      <td>1</td>\n      <td>1</td>\n      <td>PP 9549</td>\n      <td>16.7000</td>\n      <td>S</td>\n      <td>Sandstrom, Miss</td>\n    </tr>\n    <tr>\n      <th>11</th>\n      <td>1</td>\n      <td>(0.0, 0.0, 0.0, 0.0, 0.0, 0.0, 0.0, 0.0, 0.0, ...</td>\n      <td>1</td>\n      <td>1</td>\n      <td>female</td>\n      <td>58.000000</td>\n      <td>0</td>\n      <td>0</td>\n      <td>113783</td>\n      <td>26.5500</td>\n      <td>S</td>\n      <td>Bonnell, Miss</td>\n    </tr>\n    <tr>\n      <th>12</th>\n      <td>0</td>\n      <td>(0.0, 0.0, 0.0, 0.0, 0.0, 0.0, 0.0, 0.0, 0.0, ...</td>\n      <td>0</td>\n      <td>3</td>\n      <td>male</td>\n      <td>20.000000</td>\n      <td>0</td>\n      <td>0</td>\n      <td>A/5. 2151</td>\n      <td>8.0500</td>\n      <td>S</td>\n      <td>Saundercock, Mr</td>\n    </tr>\n    <tr>\n      <th>13</th>\n      <td>0</td>\n      <td>(0.0, 0.0, 0.0, 0.0, 0.0, 0.0, 0.0, 0.0, 0.0, ...</td>\n      <td>0</td>\n      <td>3</td>\n      <td>male</td>\n      <td>39.000000</td>\n      <td>1</td>\n      <td>5</td>\n      <td>347082</td>\n      <td>31.2750</td>\n      <td>S</td>\n      <td>Andersson, Mr</td>\n    </tr>\n    <tr>\n      <th>14</th>\n      <td>0</td>\n      <td>(0.0, 0.0, 0.0, 0.0, 0.0, 0.0, 0.0, 0.0, 0.0, ...</td>\n      <td>0</td>\n      <td>3</td>\n      <td>female</td>\n      <td>14.000000</td>\n      <td>0</td>\n      <td>0</td>\n      <td>350406</td>\n      <td>7.8542</td>\n      <td>S</td>\n      <td>Vestrom, Miss</td>\n    </tr>\n    <tr>\n      <th>15</th>\n      <td>1</td>\n      <td>(0.0, 0.0, 0.0, 0.0, 0.0, 0.0, 0.0, 0.0, 0.0, ...</td>\n      <td>1</td>\n      <td>2</td>\n      <td>female</td>\n      <td>55.000000</td>\n      <td>0</td>\n      <td>0</td>\n      <td>248706</td>\n      <td>16.0000</td>\n      <td>S</td>\n      <td>Hewlett, Mrs</td>\n    </tr>\n    <tr>\n      <th>16</th>\n      <td>0</td>\n      <td>(0.0, 1.0, 0.0, 0.0, 0.0, 0.0, 0.0, 0.0, 0.0, ...</td>\n      <td>0</td>\n      <td>3</td>\n      <td>male</td>\n      <td>2.000000</td>\n      <td>4</td>\n      <td>1</td>\n      <td>382652</td>\n      <td>29.1250</td>\n      <td>Q</td>\n      <td>Rice, Master</td>\n    </tr>\n    <tr>\n      <th>17</th>\n      <td>1</td>\n      <td>(0.0, 0.0, 0.0, 0.0, 0.0, 0.0, 0.0, 0.0, 0.0, ...</td>\n      <td>1</td>\n      <td>2</td>\n      <td>male</td>\n      <td>29.699118</td>\n      <td>0</td>\n      <td>0</td>\n      <td>244373</td>\n      <td>13.0000</td>\n      <td>S</td>\n      <td>Williams, Mr</td>\n    </tr>\n    <tr>\n      <th>18</th>\n      <td>0</td>\n      <td>(0.0, 0.0, 0.0, 0.0, 0.0, 0.0, 0.0, 0.0, 0.0, ...</td>\n      <td>0</td>\n      <td>3</td>\n      <td>female</td>\n      <td>31.000000</td>\n      <td>1</td>\n      <td>0</td>\n      <td>345763</td>\n      <td>18.0000</td>\n      <td>S</td>\n      <td>Vander Planke, Mrs</td>\n    </tr>\n    <tr>\n      <th>19</th>\n      <td>1</td>\n      <td>(0.0, 0.0, 0.0, 0.0, 0.0, 0.0, 0.0, 0.0, 0.0, ...</td>\n      <td>1</td>\n      <td>3</td>\n      <td>female</td>\n      <td>29.699118</td>\n      <td>0</td>\n      <td>0</td>\n      <td>2649</td>\n      <td>7.2250</td>\n      <td>C</td>\n      <td>Masselmani, Mrs</td>\n    </tr>\n    <tr>\n      <th>20</th>\n      <td>0</td>\n      <td>(0.0, 0.0, 0.0, 0.0, 0.0, 0.0, 0.0, 0.0, 0.0, ...</td>\n      <td>0</td>\n      <td>2</td>\n      <td>male</td>\n      <td>35.000000</td>\n      <td>0</td>\n      <td>0</td>\n      <td>239865</td>\n      <td>26.0000</td>\n      <td>S</td>\n      <td>Fynney, Mr</td>\n    </tr>\n    <tr>\n      <th>21</th>\n      <td>1</td>\n      <td>(0.0, 0.0, 0.0, 0.0, 0.0, 0.0, 0.0, 0.0, 0.0, ...</td>\n      <td>1</td>\n      <td>2</td>\n      <td>male</td>\n      <td>34.000000</td>\n      <td>0</td>\n      <td>0</td>\n      <td>248698</td>\n      <td>13.0000</td>\n      <td>S</td>\n      <td>Beesley, Mr</td>\n    </tr>\n    <tr>\n      <th>22</th>\n      <td>1</td>\n      <td>(0.0, 0.0, 0.0, 0.0, 0.0, 0.0, 0.0, 0.0, 0.0, ...</td>\n      <td>1</td>\n      <td>3</td>\n      <td>female</td>\n      <td>15.000000</td>\n      <td>0</td>\n      <td>0</td>\n      <td>330923</td>\n      <td>8.0292</td>\n      <td>Q</td>\n      <td>\"McGowan, Miss</td>\n    </tr>\n    <tr>\n      <th>23</th>\n      <td>1</td>\n      <td>(0.0, 0.0, 0.0, 0.0, 0.0, 0.0, 0.0, 0.0, 0.0, ...</td>\n      <td>1</td>\n      <td>1</td>\n      <td>male</td>\n      <td>28.000000</td>\n      <td>0</td>\n      <td>0</td>\n      <td>113788</td>\n      <td>35.5000</td>\n      <td>S</td>\n      <td>Sloper, Mr</td>\n    </tr>\n    <tr>\n      <th>24</th>\n      <td>0</td>\n      <td>(0.0, 0.0, 0.0, 0.0, 0.0, 0.0, 0.0, 0.0, 0.0, ...</td>\n      <td>0</td>\n      <td>3</td>\n      <td>female</td>\n      <td>8.000000</td>\n      <td>3</td>\n      <td>1</td>\n      <td>349909</td>\n      <td>21.0750</td>\n      <td>S</td>\n      <td>Palsson, Miss</td>\n    </tr>\n    <tr>\n      <th>25</th>\n      <td>1</td>\n      <td>(0.0, 0.0, 0.0, 0.0, 0.0, 0.0, 0.0, 0.0, 0.0, ...</td>\n      <td>1</td>\n      <td>3</td>\n      <td>female</td>\n      <td>38.000000</td>\n      <td>1</td>\n      <td>5</td>\n      <td>347077</td>\n      <td>31.3875</td>\n      <td>S</td>\n      <td>Asplund, Mrs</td>\n    </tr>\n    <tr>\n      <th>26</th>\n      <td>0</td>\n      <td>(0.0, 0.0, 0.0, 0.0, 0.0, 0.0, 0.0, 0.0, 0.0, ...</td>\n      <td>0</td>\n      <td>3</td>\n      <td>male</td>\n      <td>29.699118</td>\n      <td>0</td>\n      <td>0</td>\n      <td>2631</td>\n      <td>7.2250</td>\n      <td>C</td>\n      <td>Emir, Mr</td>\n    </tr>\n    <tr>\n      <th>27</th>\n      <td>0</td>\n      <td>(0.0, 0.0, 0.0, 0.0, 0.0, 0.0, 0.0, 0.0, 0.0, ...</td>\n      <td>0</td>\n      <td>1</td>\n      <td>male</td>\n      <td>19.000000</td>\n      <td>3</td>\n      <td>2</td>\n      <td>19950</td>\n      <td>263.0000</td>\n      <td>S</td>\n      <td>Fortune, Mr</td>\n    </tr>\n    <tr>\n      <th>28</th>\n      <td>1</td>\n      <td>(0.0, 0.0, 0.0, 0.0, 0.0, 0.0, 0.0, 0.0, 0.0, ...</td>\n      <td>1</td>\n      <td>3</td>\n      <td>female</td>\n      <td>29.699118</td>\n      <td>0</td>\n      <td>0</td>\n      <td>330959</td>\n      <td>7.8792</td>\n      <td>Q</td>\n      <td>\"O'Dwyer, Miss</td>\n    </tr>\n    <tr>\n      <th>29</th>\n      <td>0</td>\n      <td>(0.0, 0.0, 0.0, 0.0, 0.0, 0.0, 0.0, 0.0, 0.0, ...</td>\n      <td>0</td>\n      <td>3</td>\n      <td>male</td>\n      <td>29.699118</td>\n      <td>0</td>\n      <td>0</td>\n      <td>349216</td>\n      <td>7.8958</td>\n      <td>S</td>\n      <td>Todoroff, Mr</td>\n    </tr>\n    <tr>\n      <th>...</th>\n      <td>...</td>\n      <td>...</td>\n      <td>...</td>\n      <td>...</td>\n      <td>...</td>\n      <td>...</td>\n      <td>...</td>\n      <td>...</td>\n      <td>...</td>\n      <td>...</td>\n      <td>...</td>\n      <td>...</td>\n    </tr>\n    <tr>\n      <th>861</th>\n      <td>0</td>\n      <td>(0.0, 0.0, 0.0, 0.0, 0.0, 0.0, 0.0, 0.0, 0.0, ...</td>\n      <td>0</td>\n      <td>2</td>\n      <td>male</td>\n      <td>21.000000</td>\n      <td>1</td>\n      <td>0</td>\n      <td>28134</td>\n      <td>11.5000</td>\n      <td>S</td>\n      <td>Giles, Mr</td>\n    </tr>\n    <tr>\n      <th>862</th>\n      <td>1</td>\n      <td>(0.0, 0.0, 0.0, 0.0, 0.0, 0.0, 0.0, 0.0, 0.0, ...</td>\n      <td>1</td>\n      <td>1</td>\n      <td>female</td>\n      <td>48.000000</td>\n      <td>0</td>\n      <td>0</td>\n      <td>17466</td>\n      <td>25.9292</td>\n      <td>S</td>\n      <td>Swift, Mrs</td>\n    </tr>\n    <tr>\n      <th>863</th>\n      <td>0</td>\n      <td>(0.0, 0.0, 0.0, 0.0, 0.0, 0.0, 0.0, 0.0, 0.0, ...</td>\n      <td>0</td>\n      <td>3</td>\n      <td>female</td>\n      <td>29.699118</td>\n      <td>8</td>\n      <td>2</td>\n      <td>CA. 2343</td>\n      <td>69.5500</td>\n      <td>S</td>\n      <td>\"Sage, Miss</td>\n    </tr>\n    <tr>\n      <th>864</th>\n      <td>0</td>\n      <td>(0.0, 0.0, 0.0, 0.0, 0.0, 0.0, 0.0, 0.0, 0.0, ...</td>\n      <td>0</td>\n      <td>2</td>\n      <td>male</td>\n      <td>24.000000</td>\n      <td>0</td>\n      <td>0</td>\n      <td>233866</td>\n      <td>13.0000</td>\n      <td>S</td>\n      <td>Gill, Mr</td>\n    </tr>\n    <tr>\n      <th>865</th>\n      <td>1</td>\n      <td>(0.0, 0.0, 0.0, 0.0, 0.0, 0.0, 0.0, 0.0, 0.0, ...</td>\n      <td>1</td>\n      <td>2</td>\n      <td>female</td>\n      <td>42.000000</td>\n      <td>0</td>\n      <td>0</td>\n      <td>236852</td>\n      <td>13.0000</td>\n      <td>S</td>\n      <td>Bystrom, Mrs</td>\n    </tr>\n    <tr>\n      <th>866</th>\n      <td>1</td>\n      <td>(0.0, 0.0, 0.0, 0.0, 0.0, 0.0, 0.0, 0.0, 0.0, ...</td>\n      <td>1</td>\n      <td>2</td>\n      <td>female</td>\n      <td>27.000000</td>\n      <td>1</td>\n      <td>0</td>\n      <td>SC/PARIS 2149</td>\n      <td>13.8583</td>\n      <td>C</td>\n      <td>Duran y More, Miss</td>\n    </tr>\n    <tr>\n      <th>867</th>\n      <td>0</td>\n      <td>(0.0, 0.0, 0.0, 0.0, 0.0, 0.0, 0.0, 0.0, 0.0, ...</td>\n      <td>0</td>\n      <td>1</td>\n      <td>male</td>\n      <td>31.000000</td>\n      <td>0</td>\n      <td>0</td>\n      <td>PC 17590</td>\n      <td>50.4958</td>\n      <td>S</td>\n      <td>Roebling, Mr</td>\n    </tr>\n    <tr>\n      <th>868</th>\n      <td>0</td>\n      <td>(0.0, 0.0, 0.0, 0.0, 0.0, 0.0, 0.0, 0.0, 0.0, ...</td>\n      <td>0</td>\n      <td>3</td>\n      <td>male</td>\n      <td>29.699118</td>\n      <td>0</td>\n      <td>0</td>\n      <td>345777</td>\n      <td>9.5000</td>\n      <td>S</td>\n      <td>van Melkebeke, Mr</td>\n    </tr>\n    <tr>\n      <th>869</th>\n      <td>1</td>\n      <td>(0.0, 0.0, 0.0, 0.0, 0.0, 0.0, 0.0, 0.0, 0.0, ...</td>\n      <td>1</td>\n      <td>3</td>\n      <td>male</td>\n      <td>4.000000</td>\n      <td>1</td>\n      <td>1</td>\n      <td>347742</td>\n      <td>11.1333</td>\n      <td>S</td>\n      <td>Johnson, Master</td>\n    </tr>\n    <tr>\n      <th>870</th>\n      <td>0</td>\n      <td>(0.0, 0.0, 0.0, 0.0, 0.0, 0.0, 0.0, 0.0, 0.0, ...</td>\n      <td>0</td>\n      <td>3</td>\n      <td>male</td>\n      <td>26.000000</td>\n      <td>0</td>\n      <td>0</td>\n      <td>349248</td>\n      <td>7.8958</td>\n      <td>S</td>\n      <td>Balkic, Mr</td>\n    </tr>\n    <tr>\n      <th>871</th>\n      <td>1</td>\n      <td>(0.0, 0.0, 0.0, 0.0, 0.0, 0.0, 0.0, 0.0, 0.0, ...</td>\n      <td>1</td>\n      <td>1</td>\n      <td>female</td>\n      <td>47.000000</td>\n      <td>1</td>\n      <td>1</td>\n      <td>11751</td>\n      <td>52.5542</td>\n      <td>S</td>\n      <td>Beckwith, Mrs</td>\n    </tr>\n    <tr>\n      <th>872</th>\n      <td>0</td>\n      <td>(0.0, 0.0, 0.0, 0.0, 0.0, 0.0, 0.0, 0.0, 0.0, ...</td>\n      <td>0</td>\n      <td>1</td>\n      <td>male</td>\n      <td>33.000000</td>\n      <td>0</td>\n      <td>0</td>\n      <td>695</td>\n      <td>5.0000</td>\n      <td>S</td>\n      <td>Carlsson, Mr</td>\n    </tr>\n    <tr>\n      <th>873</th>\n      <td>0</td>\n      <td>(0.0, 0.0, 0.0, 0.0, 0.0, 0.0, 0.0, 0.0, 0.0, ...</td>\n      <td>0</td>\n      <td>3</td>\n      <td>male</td>\n      <td>47.000000</td>\n      <td>0</td>\n      <td>0</td>\n      <td>345765</td>\n      <td>9.0000</td>\n      <td>S</td>\n      <td>Vander Cruyssen, Mr</td>\n    </tr>\n    <tr>\n      <th>874</th>\n      <td>1</td>\n      <td>(0.0, 0.0, 0.0, 0.0, 0.0, 0.0, 0.0, 0.0, 0.0, ...</td>\n      <td>1</td>\n      <td>2</td>\n      <td>female</td>\n      <td>28.000000</td>\n      <td>1</td>\n      <td>0</td>\n      <td>P/PP 3381</td>\n      <td>24.0000</td>\n      <td>C</td>\n      <td>Abelson, Mrs</td>\n    </tr>\n    <tr>\n      <th>875</th>\n      <td>1</td>\n      <td>(0.0, 0.0, 0.0, 0.0, 0.0, 0.0, 0.0, 0.0, 0.0, ...</td>\n      <td>1</td>\n      <td>3</td>\n      <td>female</td>\n      <td>15.000000</td>\n      <td>0</td>\n      <td>0</td>\n      <td>2667</td>\n      <td>7.2250</td>\n      <td>C</td>\n      <td>\"Najib, Miss</td>\n    </tr>\n    <tr>\n      <th>876</th>\n      <td>0</td>\n      <td>(0.0, 0.0, 1.0, 0.0, 0.0, 0.0, 0.0, 0.0, 0.0, ...</td>\n      <td>0</td>\n      <td>3</td>\n      <td>male</td>\n      <td>20.000000</td>\n      <td>0</td>\n      <td>0</td>\n      <td>7534</td>\n      <td>9.8458</td>\n      <td>S</td>\n      <td>Gustafsson, Mr</td>\n    </tr>\n    <tr>\n      <th>877</th>\n      <td>0</td>\n      <td>(0.0, 0.0, 0.0, 0.0, 0.0, 0.0, 0.0, 0.0, 0.0, ...</td>\n      <td>0</td>\n      <td>3</td>\n      <td>male</td>\n      <td>19.000000</td>\n      <td>0</td>\n      <td>0</td>\n      <td>349212</td>\n      <td>7.8958</td>\n      <td>S</td>\n      <td>Petroff, Mr</td>\n    </tr>\n    <tr>\n      <th>878</th>\n      <td>0</td>\n      <td>(0.0, 0.0, 0.0, 0.0, 0.0, 0.0, 0.0, 0.0, 0.0, ...</td>\n      <td>0</td>\n      <td>3</td>\n      <td>male</td>\n      <td>29.699118</td>\n      <td>0</td>\n      <td>0</td>\n      <td>349217</td>\n      <td>7.8958</td>\n      <td>S</td>\n      <td>Laleff, Mr</td>\n    </tr>\n    <tr>\n      <th>879</th>\n      <td>1</td>\n      <td>(0.0, 0.0, 0.0, 0.0, 0.0, 0.0, 0.0, 0.0, 0.0, ...</td>\n      <td>1</td>\n      <td>1</td>\n      <td>female</td>\n      <td>56.000000</td>\n      <td>0</td>\n      <td>1</td>\n      <td>11767</td>\n      <td>83.1583</td>\n      <td>C</td>\n      <td>Potter, Mrs</td>\n    </tr>\n    <tr>\n      <th>880</th>\n      <td>1</td>\n      <td>(0.0, 0.0, 0.0, 0.0, 0.0, 0.0, 0.0, 0.0, 0.0, ...</td>\n      <td>1</td>\n      <td>2</td>\n      <td>female</td>\n      <td>25.000000</td>\n      <td>0</td>\n      <td>1</td>\n      <td>230433</td>\n      <td>26.0000</td>\n      <td>S</td>\n      <td>Shelley, Mrs</td>\n    </tr>\n    <tr>\n      <th>881</th>\n      <td>0</td>\n      <td>(0.0, 0.0, 0.0, 0.0, 0.0, 0.0, 0.0, 0.0, 0.0, ...</td>\n      <td>0</td>\n      <td>3</td>\n      <td>male</td>\n      <td>33.000000</td>\n      <td>0</td>\n      <td>0</td>\n      <td>349257</td>\n      <td>7.8958</td>\n      <td>S</td>\n      <td>Markun, Mr</td>\n    </tr>\n    <tr>\n      <th>882</th>\n      <td>0</td>\n      <td>(0.0, 0.0, 0.0, 0.0, 0.0, 0.0, 0.0, 0.0, 0.0, ...</td>\n      <td>0</td>\n      <td>3</td>\n      <td>female</td>\n      <td>22.000000</td>\n      <td>0</td>\n      <td>0</td>\n      <td>7552</td>\n      <td>10.5167</td>\n      <td>S</td>\n      <td>Dahlberg, Miss</td>\n    </tr>\n    <tr>\n      <th>883</th>\n      <td>0</td>\n      <td>(0.0, 0.0, 0.0, 0.0, 0.0, 0.0, 0.0, 0.0, 0.0, ...</td>\n      <td>0</td>\n      <td>2</td>\n      <td>male</td>\n      <td>28.000000</td>\n      <td>0</td>\n      <td>0</td>\n      <td>C.A./SOTON 34068</td>\n      <td>10.5000</td>\n      <td>S</td>\n      <td>Banfield, Mr</td>\n    </tr>\n    <tr>\n      <th>884</th>\n      <td>0</td>\n      <td>(0.0, 0.0, 0.0, 0.0, 0.0, 0.0, 0.0, 0.0, 0.0, ...</td>\n      <td>0</td>\n      <td>3</td>\n      <td>male</td>\n      <td>25.000000</td>\n      <td>0</td>\n      <td>0</td>\n      <td>SOTON/OQ 392076</td>\n      <td>7.0500</td>\n      <td>S</td>\n      <td>Sutehall, Mr</td>\n    </tr>\n    <tr>\n      <th>885</th>\n      <td>0</td>\n      <td>(0.0, 0.0, 0.0, 0.0, 0.0, 0.0, 0.0, 0.0, 0.0, ...</td>\n      <td>0</td>\n      <td>3</td>\n      <td>female</td>\n      <td>39.000000</td>\n      <td>0</td>\n      <td>5</td>\n      <td>382652</td>\n      <td>29.1250</td>\n      <td>Q</td>\n      <td>Rice, Mrs</td>\n    </tr>\n    <tr>\n      <th>886</th>\n      <td>0</td>\n      <td>(0.0, 0.0, 0.0, 0.0, 0.0, 0.0, 0.0, 0.0, 0.0, ...</td>\n      <td>0</td>\n      <td>2</td>\n      <td>male</td>\n      <td>27.000000</td>\n      <td>0</td>\n      <td>0</td>\n      <td>211536</td>\n      <td>13.0000</td>\n      <td>S</td>\n      <td>Montvila, Rev</td>\n    </tr>\n    <tr>\n      <th>887</th>\n      <td>1</td>\n      <td>(0.0, 0.0, 0.0, 0.0, 0.0, 0.0, 0.0, 0.0, 0.0, ...</td>\n      <td>1</td>\n      <td>1</td>\n      <td>female</td>\n      <td>19.000000</td>\n      <td>0</td>\n      <td>0</td>\n      <td>112053</td>\n      <td>30.0000</td>\n      <td>S</td>\n      <td>Graham, Miss</td>\n    </tr>\n    <tr>\n      <th>888</th>\n      <td>0</td>\n      <td>(0.0, 0.0, 0.0, 0.0, 0.0, 0.0, 0.0, 0.0, 0.0, ...</td>\n      <td>0</td>\n      <td>3</td>\n      <td>female</td>\n      <td>29.699118</td>\n      <td>1</td>\n      <td>2</td>\n      <td>W./C. 6607</td>\n      <td>23.4500</td>\n      <td>S</td>\n      <td>\"Johnston, Miss</td>\n    </tr>\n    <tr>\n      <th>889</th>\n      <td>1</td>\n      <td>(0.0, 0.0, 0.0, 0.0, 0.0, 0.0, 0.0, 0.0, 0.0, ...</td>\n      <td>1</td>\n      <td>1</td>\n      <td>male</td>\n      <td>26.000000</td>\n      <td>0</td>\n      <td>0</td>\n      <td>111369</td>\n      <td>30.0000</td>\n      <td>C</td>\n      <td>Behr, Mr</td>\n    </tr>\n    <tr>\n      <th>890</th>\n      <td>0</td>\n      <td>(0.0, 0.0, 0.0, 0.0, 0.0, 0.0, 0.0, 0.0, 0.0, ...</td>\n      <td>0</td>\n      <td>3</td>\n      <td>male</td>\n      <td>32.000000</td>\n      <td>0</td>\n      <td>0</td>\n      <td>370376</td>\n      <td>7.7500</td>\n      <td>Q</td>\n      <td>Dooley, Mr</td>\n    </tr>\n  </tbody>\n</table>\n<p>891 rows \u00d7 12 columns</p>\n</div>", 
                        "text/plain": "     label                                           features  Survived  \\\n0        0  (0.0, 0.0, 0.0, 0.0, 0.0, 0.0, 0.0, 0.0, 0.0, ...         0   \n1        1  (0.0, 0.0, 0.0, 0.0, 0.0, 0.0, 0.0, 0.0, 0.0, ...         1   \n2        1  (0.0, 0.0, 0.0, 0.0, 0.0, 0.0, 0.0, 0.0, 0.0, ...         1   \n3        1  (0.0, 0.0, 0.0, 0.0, 0.0, 0.0, 0.0, 0.0, 0.0, ...         1   \n4        0  (0.0, 0.0, 0.0, 0.0, 0.0, 0.0, 0.0, 0.0, 0.0, ...         0   \n5        0  (0.0, 0.0, 0.0, 0.0, 0.0, 0.0, 0.0, 0.0, 0.0, ...         0   \n6        0  (0.0, 0.0, 0.0, 0.0, 0.0, 0.0, 0.0, 0.0, 0.0, ...         0   \n7        0  (0.0, 0.0, 0.0, 0.0, 0.0, 0.0, 0.0, 0.0, 0.0, ...         0   \n8        1  (0.0, 0.0, 0.0, 0.0, 0.0, 0.0, 0.0, 0.0, 0.0, ...         1   \n9        1  (0.0, 0.0, 0.0, 0.0, 0.0, 0.0, 0.0, 0.0, 0.0, ...         1   \n10       1  (0.0, 0.0, 0.0, 0.0, 0.0, 0.0, 0.0, 0.0, 0.0, ...         1   \n11       1  (0.0, 0.0, 0.0, 0.0, 0.0, 0.0, 0.0, 0.0, 0.0, ...         1   \n12       0  (0.0, 0.0, 0.0, 0.0, 0.0, 0.0, 0.0, 0.0, 0.0, ...         0   \n13       0  (0.0, 0.0, 0.0, 0.0, 0.0, 0.0, 0.0, 0.0, 0.0, ...         0   \n14       0  (0.0, 0.0, 0.0, 0.0, 0.0, 0.0, 0.0, 0.0, 0.0, ...         0   \n15       1  (0.0, 0.0, 0.0, 0.0, 0.0, 0.0, 0.0, 0.0, 0.0, ...         1   \n16       0  (0.0, 1.0, 0.0, 0.0, 0.0, 0.0, 0.0, 0.0, 0.0, ...         0   \n17       1  (0.0, 0.0, 0.0, 0.0, 0.0, 0.0, 0.0, 0.0, 0.0, ...         1   \n18       0  (0.0, 0.0, 0.0, 0.0, 0.0, 0.0, 0.0, 0.0, 0.0, ...         0   \n19       1  (0.0, 0.0, 0.0, 0.0, 0.0, 0.0, 0.0, 0.0, 0.0, ...         1   \n20       0  (0.0, 0.0, 0.0, 0.0, 0.0, 0.0, 0.0, 0.0, 0.0, ...         0   \n21       1  (0.0, 0.0, 0.0, 0.0, 0.0, 0.0, 0.0, 0.0, 0.0, ...         1   \n22       1  (0.0, 0.0, 0.0, 0.0, 0.0, 0.0, 0.0, 0.0, 0.0, ...         1   \n23       1  (0.0, 0.0, 0.0, 0.0, 0.0, 0.0, 0.0, 0.0, 0.0, ...         1   \n24       0  (0.0, 0.0, 0.0, 0.0, 0.0, 0.0, 0.0, 0.0, 0.0, ...         0   \n25       1  (0.0, 0.0, 0.0, 0.0, 0.0, 0.0, 0.0, 0.0, 0.0, ...         1   \n26       0  (0.0, 0.0, 0.0, 0.0, 0.0, 0.0, 0.0, 0.0, 0.0, ...         0   \n27       0  (0.0, 0.0, 0.0, 0.0, 0.0, 0.0, 0.0, 0.0, 0.0, ...         0   \n28       1  (0.0, 0.0, 0.0, 0.0, 0.0, 0.0, 0.0, 0.0, 0.0, ...         1   \n29       0  (0.0, 0.0, 0.0, 0.0, 0.0, 0.0, 0.0, 0.0, 0.0, ...         0   \n..     ...                                                ...       ...   \n861      0  (0.0, 0.0, 0.0, 0.0, 0.0, 0.0, 0.0, 0.0, 0.0, ...         0   \n862      1  (0.0, 0.0, 0.0, 0.0, 0.0, 0.0, 0.0, 0.0, 0.0, ...         1   \n863      0  (0.0, 0.0, 0.0, 0.0, 0.0, 0.0, 0.0, 0.0, 0.0, ...         0   \n864      0  (0.0, 0.0, 0.0, 0.0, 0.0, 0.0, 0.0, 0.0, 0.0, ...         0   \n865      1  (0.0, 0.0, 0.0, 0.0, 0.0, 0.0, 0.0, 0.0, 0.0, ...         1   \n866      1  (0.0, 0.0, 0.0, 0.0, 0.0, 0.0, 0.0, 0.0, 0.0, ...         1   \n867      0  (0.0, 0.0, 0.0, 0.0, 0.0, 0.0, 0.0, 0.0, 0.0, ...         0   \n868      0  (0.0, 0.0, 0.0, 0.0, 0.0, 0.0, 0.0, 0.0, 0.0, ...         0   \n869      1  (0.0, 0.0, 0.0, 0.0, 0.0, 0.0, 0.0, 0.0, 0.0, ...         1   \n870      0  (0.0, 0.0, 0.0, 0.0, 0.0, 0.0, 0.0, 0.0, 0.0, ...         0   \n871      1  (0.0, 0.0, 0.0, 0.0, 0.0, 0.0, 0.0, 0.0, 0.0, ...         1   \n872      0  (0.0, 0.0, 0.0, 0.0, 0.0, 0.0, 0.0, 0.0, 0.0, ...         0   \n873      0  (0.0, 0.0, 0.0, 0.0, 0.0, 0.0, 0.0, 0.0, 0.0, ...         0   \n874      1  (0.0, 0.0, 0.0, 0.0, 0.0, 0.0, 0.0, 0.0, 0.0, ...         1   \n875      1  (0.0, 0.0, 0.0, 0.0, 0.0, 0.0, 0.0, 0.0, 0.0, ...         1   \n876      0  (0.0, 0.0, 1.0, 0.0, 0.0, 0.0, 0.0, 0.0, 0.0, ...         0   \n877      0  (0.0, 0.0, 0.0, 0.0, 0.0, 0.0, 0.0, 0.0, 0.0, ...         0   \n878      0  (0.0, 0.0, 0.0, 0.0, 0.0, 0.0, 0.0, 0.0, 0.0, ...         0   \n879      1  (0.0, 0.0, 0.0, 0.0, 0.0, 0.0, 0.0, 0.0, 0.0, ...         1   \n880      1  (0.0, 0.0, 0.0, 0.0, 0.0, 0.0, 0.0, 0.0, 0.0, ...         1   \n881      0  (0.0, 0.0, 0.0, 0.0, 0.0, 0.0, 0.0, 0.0, 0.0, ...         0   \n882      0  (0.0, 0.0, 0.0, 0.0, 0.0, 0.0, 0.0, 0.0, 0.0, ...         0   \n883      0  (0.0, 0.0, 0.0, 0.0, 0.0, 0.0, 0.0, 0.0, 0.0, ...         0   \n884      0  (0.0, 0.0, 0.0, 0.0, 0.0, 0.0, 0.0, 0.0, 0.0, ...         0   \n885      0  (0.0, 0.0, 0.0, 0.0, 0.0, 0.0, 0.0, 0.0, 0.0, ...         0   \n886      0  (0.0, 0.0, 0.0, 0.0, 0.0, 0.0, 0.0, 0.0, 0.0, ...         0   \n887      1  (0.0, 0.0, 0.0, 0.0, 0.0, 0.0, 0.0, 0.0, 0.0, ...         1   \n888      0  (0.0, 0.0, 0.0, 0.0, 0.0, 0.0, 0.0, 0.0, 0.0, ...         0   \n889      1  (0.0, 0.0, 0.0, 0.0, 0.0, 0.0, 0.0, 0.0, 0.0, ...         1   \n890      0  (0.0, 0.0, 0.0, 0.0, 0.0, 0.0, 0.0, 0.0, 0.0, ...         0   \n\n    Pclass     Sex        Age  SibSp  Parch            Ticket      Fare  \\\n0        3    male  22.000000      1      0         A/5 21171    7.2500   \n1        1  female  38.000000      1      0          PC 17599   71.2833   \n2        3  female  26.000000      0      0  STON/O2. 3101282    7.9250   \n3        1  female  35.000000      1      0            113803   53.1000   \n4        3    male  35.000000      0      0            373450    8.0500   \n5        3    male  29.699118      0      0            330877    8.4583   \n6        1    male  54.000000      0      0             17463   51.8625   \n7        3    male   2.000000      3      1            349909   21.0750   \n8        3  female  27.000000      0      2            347742   11.1333   \n9        2  female  14.000000      1      0            237736   30.0708   \n10       3  female   4.000000      1      1           PP 9549   16.7000   \n11       1  female  58.000000      0      0            113783   26.5500   \n12       3    male  20.000000      0      0         A/5. 2151    8.0500   \n13       3    male  39.000000      1      5            347082   31.2750   \n14       3  female  14.000000      0      0            350406    7.8542   \n15       2  female  55.000000      0      0            248706   16.0000   \n16       3    male   2.000000      4      1            382652   29.1250   \n17       2    male  29.699118      0      0            244373   13.0000   \n18       3  female  31.000000      1      0            345763   18.0000   \n19       3  female  29.699118      0      0              2649    7.2250   \n20       2    male  35.000000      0      0            239865   26.0000   \n21       2    male  34.000000      0      0            248698   13.0000   \n22       3  female  15.000000      0      0            330923    8.0292   \n23       1    male  28.000000      0      0            113788   35.5000   \n24       3  female   8.000000      3      1            349909   21.0750   \n25       3  female  38.000000      1      5            347077   31.3875   \n26       3    male  29.699118      0      0              2631    7.2250   \n27       1    male  19.000000      3      2             19950  263.0000   \n28       3  female  29.699118      0      0            330959    7.8792   \n29       3    male  29.699118      0      0            349216    7.8958   \n..     ...     ...        ...    ...    ...               ...       ...   \n861      2    male  21.000000      1      0             28134   11.5000   \n862      1  female  48.000000      0      0             17466   25.9292   \n863      3  female  29.699118      8      2          CA. 2343   69.5500   \n864      2    male  24.000000      0      0            233866   13.0000   \n865      2  female  42.000000      0      0            236852   13.0000   \n866      2  female  27.000000      1      0     SC/PARIS 2149   13.8583   \n867      1    male  31.000000      0      0          PC 17590   50.4958   \n868      3    male  29.699118      0      0            345777    9.5000   \n869      3    male   4.000000      1      1            347742   11.1333   \n870      3    male  26.000000      0      0            349248    7.8958   \n871      1  female  47.000000      1      1             11751   52.5542   \n872      1    male  33.000000      0      0               695    5.0000   \n873      3    male  47.000000      0      0            345765    9.0000   \n874      2  female  28.000000      1      0         P/PP 3381   24.0000   \n875      3  female  15.000000      0      0              2667    7.2250   \n876      3    male  20.000000      0      0              7534    9.8458   \n877      3    male  19.000000      0      0            349212    7.8958   \n878      3    male  29.699118      0      0            349217    7.8958   \n879      1  female  56.000000      0      1             11767   83.1583   \n880      2  female  25.000000      0      1            230433   26.0000   \n881      3    male  33.000000      0      0            349257    7.8958   \n882      3  female  22.000000      0      0              7552   10.5167   \n883      2    male  28.000000      0      0  C.A./SOTON 34068   10.5000   \n884      3    male  25.000000      0      0   SOTON/OQ 392076    7.0500   \n885      3  female  39.000000      0      5            382652   29.1250   \n886      2    male  27.000000      0      0            211536   13.0000   \n887      1  female  19.000000      0      0            112053   30.0000   \n888      3  female  29.699118      1      2        W./C. 6607   23.4500   \n889      1    male  26.000000      0      0            111369   30.0000   \n890      3    male  32.000000      0      0            370376    7.7500   \n\n    Embarked                Title  \n0          S           Braund, Mr  \n1          C         Cumings, Mrs  \n2          S      Heikkinen, Miss  \n3          S        Futrelle, Mrs  \n4          S            Allen, Mr  \n5          Q            Moran, Mr  \n6          S         McCarthy, Mr  \n7          S      Palsson, Master  \n8          S         Johnson, Mrs  \n9          C          Nasser, Mrs  \n10         S      Sandstrom, Miss  \n11         S        Bonnell, Miss  \n12         S      Saundercock, Mr  \n13         S        Andersson, Mr  \n14         S        Vestrom, Miss  \n15         S         Hewlett, Mrs  \n16         Q         Rice, Master  \n17         S         Williams, Mr  \n18         S   Vander Planke, Mrs  \n19         C      Masselmani, Mrs  \n20         S           Fynney, Mr  \n21         S          Beesley, Mr  \n22         Q       \"McGowan, Miss  \n23         S           Sloper, Mr  \n24         S        Palsson, Miss  \n25         S         Asplund, Mrs  \n26         C             Emir, Mr  \n27         S          Fortune, Mr  \n28         Q       \"O'Dwyer, Miss  \n29         S         Todoroff, Mr  \n..       ...                  ...  \n861        S            Giles, Mr  \n862        S           Swift, Mrs  \n863        S          \"Sage, Miss  \n864        S             Gill, Mr  \n865        S         Bystrom, Mrs  \n866        C   Duran y More, Miss  \n867        S         Roebling, Mr  \n868        S    van Melkebeke, Mr  \n869        S      Johnson, Master  \n870        S           Balkic, Mr  \n871        S        Beckwith, Mrs  \n872        S         Carlsson, Mr  \n873        S  Vander Cruyssen, Mr  \n874        C         Abelson, Mrs  \n875        C         \"Najib, Miss  \n876        S       Gustafsson, Mr  \n877        S          Petroff, Mr  \n878        S           Laleff, Mr  \n879        C          Potter, Mrs  \n880        S         Shelley, Mrs  \n881        S           Markun, Mr  \n882        S       Dahlberg, Miss  \n883        S         Banfield, Mr  \n884        S         Sutehall, Mr  \n885        Q            Rice, Mrs  \n886        S        Montvila, Rev  \n887        S         Graham, Miss  \n888        S      \"Johnston, Miss  \n889        C             Behr, Mr  \n890        Q           Dooley, Mr  \n\n[891 rows x 12 columns]"
                    }, 
                    "output_type": "execute_result"
                }
            ], 
            "cell_type": "code"
        }, 
        {
            "execution_count": 98, 
            "metadata": {}, 
            "source": "### Randomly split data into training and test sets. set seed for reproducibility\n(trainingData, testData) = dataset.randomSplit([0.7, 0.3], seed = 100)\nprint trainingData.count()\nprint testData.count()", 
            "outputs": [
                {
                    "name": "stdout", 
                    "output_type": "stream", 
                    "text": "614\n277\n"
                }
            ], 
            "cell_type": "code"
        }, 
        {
            "execution_count": null, 
            "metadata": {}, 
            "source": "from pyspark.ml.classification import LogisticRegression\n\n# Create initial LogisticRegression model\nlr = LogisticRegression(labelCol=\"label\", featuresCol=\"features\", maxIter=10)\n\n# Train model with Training Data\nlrModel = lr.fit(trainingData)\n\n# Make predictions on test data using the transform() method.\n# LogisticRegression.transform() will only use the 'features' column.\npredictions = lrModel.transform(testData)\npredictions.printSchema()", 
            "outputs": [], 
            "cell_type": "code"
        }, 
        {
            "execution_count": 100, 
            "metadata": {}, 
            "source": "# View model's predictions and probabilities of each prediction class\n# You can select any columns in the above schema to view as well. For example's sake we will choose age & occupation\nselected = predictions.select(\"label\", \"prediction\", \"probability\", \"Age\")\nselected.toPandas()", 
            "outputs": [
                {
                    "execution_count": 100, 
                    "metadata": {}, 
                    "data": {
                        "text/html": "<div>\n<table border=\"1\" class=\"dataframe\">\n  <thead>\n    <tr style=\"text-align: right;\">\n      <th></th>\n      <th>label</th>\n      <th>prediction</th>\n      <th>probability</th>\n      <th>Age</th>\n    </tr>\n  </thead>\n  <tbody>\n    <tr>\n      <th>0</th>\n      <td>0</td>\n      <td>0</td>\n      <td>[0.999613489583, 0.000386510417427]</td>\n      <td>2.000000</td>\n    </tr>\n    <tr>\n      <th>1</th>\n      <td>0</td>\n      <td>0</td>\n      <td>[0.999644110298, 0.000355889701929]</td>\n      <td>8.000000</td>\n    </tr>\n    <tr>\n      <th>2</th>\n      <td>0</td>\n      <td>0</td>\n      <td>[0.999657951865, 0.00034204813521]</td>\n      <td>20.000000</td>\n    </tr>\n    <tr>\n      <th>3</th>\n      <td>0</td>\n      <td>0</td>\n      <td>[0.998436179683, 0.00156382031652]</td>\n      <td>28.000000</td>\n    </tr>\n    <tr>\n      <th>4</th>\n      <td>0</td>\n      <td>0</td>\n      <td>[0.999347061027, 0.000652938973184]</td>\n      <td>29.699118</td>\n    </tr>\n    <tr>\n      <th>5</th>\n      <td>0</td>\n      <td>0</td>\n      <td>[0.998628063677, 0.00137193632339]</td>\n      <td>41.000000</td>\n    </tr>\n    <tr>\n      <th>6</th>\n      <td>0</td>\n      <td>0</td>\n      <td>[0.998336286645, 0.00166371335485]</td>\n      <td>26.000000</td>\n    </tr>\n    <tr>\n      <th>7</th>\n      <td>0</td>\n      <td>0</td>\n      <td>[0.997900287164, 0.00209971283563]</td>\n      <td>19.000000</td>\n    </tr>\n    <tr>\n      <th>8</th>\n      <td>0</td>\n      <td>0</td>\n      <td>[0.970373984457, 0.0296260155427]</td>\n      <td>56.000000</td>\n    </tr>\n    <tr>\n      <th>9</th>\n      <td>0</td>\n      <td>0</td>\n      <td>[0.989810861576, 0.0101891384241]</td>\n      <td>29.699118</td>\n    </tr>\n    <tr>\n      <th>10</th>\n      <td>0</td>\n      <td>0</td>\n      <td>[0.999754866477, 0.00024513352259]</td>\n      <td>9.000000</td>\n    </tr>\n    <tr>\n      <th>11</th>\n      <td>0</td>\n      <td>0</td>\n      <td>[0.999761519668, 0.000238480332033]</td>\n      <td>11.000000</td>\n    </tr>\n    <tr>\n      <th>12</th>\n      <td>0</td>\n      <td>0</td>\n      <td>[0.999831995483, 0.000168004517101]</td>\n      <td>29.699118</td>\n    </tr>\n    <tr>\n      <th>13</th>\n      <td>0</td>\n      <td>0</td>\n      <td>[0.998170733179, 0.00182926682091]</td>\n      <td>22.000000</td>\n    </tr>\n    <tr>\n      <th>14</th>\n      <td>0</td>\n      <td>0</td>\n      <td>[0.998416704746, 0.00158329525402]</td>\n      <td>33.000000</td>\n    </tr>\n    <tr>\n      <th>15</th>\n      <td>0</td>\n      <td>0</td>\n      <td>[0.994974300518, 0.00502569948167]</td>\n      <td>17.000000</td>\n    </tr>\n    <tr>\n      <th>16</th>\n      <td>0</td>\n      <td>0</td>\n      <td>[0.999691620405, 0.000308379595107]</td>\n      <td>1.000000</td>\n    </tr>\n    <tr>\n      <th>17</th>\n      <td>0</td>\n      <td>0</td>\n      <td>[0.999143073347, 0.00085692665275]</td>\n      <td>3.000000</td>\n    </tr>\n    <tr>\n      <th>18</th>\n      <td>0</td>\n      <td>1</td>\n      <td>[0.0316869937016, 0.968313006298]</td>\n      <td>29.699118</td>\n    </tr>\n    <tr>\n      <th>19</th>\n      <td>0</td>\n      <td>0</td>\n      <td>[0.998221608008, 0.0017783919915]</td>\n      <td>24.000000</td>\n    </tr>\n    <tr>\n      <th>20</th>\n      <td>0</td>\n      <td>0</td>\n      <td>[0.98954001347, 0.0104599865299]</td>\n      <td>29.699118</td>\n    </tr>\n    <tr>\n      <th>21</th>\n      <td>0</td>\n      <td>0</td>\n      <td>[0.999766495795, 0.000233504204947]</td>\n      <td>4.000000</td>\n    </tr>\n    <tr>\n      <th>22</th>\n      <td>0</td>\n      <td>0</td>\n      <td>[0.999225200932, 0.000774799067679]</td>\n      <td>28.000000</td>\n    </tr>\n    <tr>\n      <th>23</th>\n      <td>0</td>\n      <td>0</td>\n      <td>[0.629941017898, 0.370058982102]</td>\n      <td>29.699118</td>\n    </tr>\n    <tr>\n      <th>24</th>\n      <td>0</td>\n      <td>0</td>\n      <td>[0.9965075864, 0.00349241360023]</td>\n      <td>29.699118</td>\n    </tr>\n    <tr>\n      <th>25</th>\n      <td>0</td>\n      <td>0</td>\n      <td>[0.998311850726, 0.00168814927426]</td>\n      <td>29.699118</td>\n    </tr>\n    <tr>\n      <th>26</th>\n      <td>0</td>\n      <td>0</td>\n      <td>[0.99952589604, 0.000474103960395]</td>\n      <td>21.000000</td>\n    </tr>\n    <tr>\n      <th>27</th>\n      <td>0</td>\n      <td>0</td>\n      <td>[0.996009009713, 0.0039909902872]</td>\n      <td>29.699118</td>\n    </tr>\n    <tr>\n      <th>28</th>\n      <td>0</td>\n      <td>0</td>\n      <td>[0.990338907346, 0.00966109265358]</td>\n      <td>24.000000</td>\n    </tr>\n    <tr>\n      <th>29</th>\n      <td>0</td>\n      <td>0</td>\n      <td>[0.990469688829, 0.00953031117085]</td>\n      <td>25.000000</td>\n    </tr>\n    <tr>\n      <th>...</th>\n      <td>...</td>\n      <td>...</td>\n      <td>...</td>\n      <td>...</td>\n    </tr>\n    <tr>\n      <th>247</th>\n      <td>1</td>\n      <td>1</td>\n      <td>[0.00964548146011, 0.99035451854]</td>\n      <td>47.000000</td>\n    </tr>\n    <tr>\n      <th>248</th>\n      <td>1</td>\n      <td>1</td>\n      <td>[0.0209539467916, 0.979046053208]</td>\n      <td>30.000000</td>\n    </tr>\n    <tr>\n      <th>249</th>\n      <td>1</td>\n      <td>0</td>\n      <td>[0.964244427477, 0.0357555725234]</td>\n      <td>29.699118</td>\n    </tr>\n    <tr>\n      <th>250</th>\n      <td>1</td>\n      <td>0</td>\n      <td>[0.939441017923, 0.0605589820773]</td>\n      <td>48.000000</td>\n    </tr>\n    <tr>\n      <th>251</th>\n      <td>1</td>\n      <td>0</td>\n      <td>[0.58838657209, 0.41161342791]</td>\n      <td>58.000000</td>\n    </tr>\n    <tr>\n      <th>252</th>\n      <td>1</td>\n      <td>1</td>\n      <td>[0.00750159653619, 0.992498403464]</td>\n      <td>35.000000</td>\n    </tr>\n    <tr>\n      <th>253</th>\n      <td>1</td>\n      <td>0</td>\n      <td>[0.981964913862, 0.0180350861384]</td>\n      <td>33.000000</td>\n    </tr>\n    <tr>\n      <th>254</th>\n      <td>1</td>\n      <td>0</td>\n      <td>[0.990672196751, 0.00932780324921]</td>\n      <td>27.000000</td>\n    </tr>\n    <tr>\n      <th>255</th>\n      <td>1</td>\n      <td>0</td>\n      <td>[0.73663007636, 0.26336992364]</td>\n      <td>24.000000</td>\n    </tr>\n    <tr>\n      <th>256</th>\n      <td>1</td>\n      <td>1</td>\n      <td>[0.0103800423884, 0.989619957612]</td>\n      <td>24.000000</td>\n    </tr>\n    <tr>\n      <th>257</th>\n      <td>1</td>\n      <td>0</td>\n      <td>[0.606477528062, 0.393522471938]</td>\n      <td>29.000000</td>\n    </tr>\n    <tr>\n      <th>258</th>\n      <td>1</td>\n      <td>0</td>\n      <td>[0.991283078246, 0.008716921754]</td>\n      <td>32.000000</td>\n    </tr>\n    <tr>\n      <th>259</th>\n      <td>1</td>\n      <td>1</td>\n      <td>[0.017972324864, 0.982027675136]</td>\n      <td>16.000000</td>\n    </tr>\n    <tr>\n      <th>260</th>\n      <td>1</td>\n      <td>0</td>\n      <td>[0.741216513646, 0.258783486354]</td>\n      <td>29.699118</td>\n    </tr>\n    <tr>\n      <th>261</th>\n      <td>1</td>\n      <td>0</td>\n      <td>[0.989142879753, 0.0108571202465]</td>\n      <td>16.000000</td>\n    </tr>\n    <tr>\n      <th>262</th>\n      <td>1</td>\n      <td>1</td>\n      <td>[0.0328635292121, 0.967136470788]</td>\n      <td>24.000000</td>\n    </tr>\n    <tr>\n      <th>263</th>\n      <td>1</td>\n      <td>1</td>\n      <td>[0.257603914445, 0.742396085555]</td>\n      <td>0.830000</td>\n    </tr>\n    <tr>\n      <th>264</th>\n      <td>1</td>\n      <td>0</td>\n      <td>[0.927359890493, 0.0726401095068]</td>\n      <td>35.000000</td>\n    </tr>\n    <tr>\n      <th>265</th>\n      <td>1</td>\n      <td>0</td>\n      <td>[0.741241598949, 0.258758401051]</td>\n      <td>29.699118</td>\n    </tr>\n    <tr>\n      <th>266</th>\n      <td>1</td>\n      <td>1</td>\n      <td>[0.30979999799, 0.69020000201]</td>\n      <td>22.000000</td>\n    </tr>\n    <tr>\n      <th>267</th>\n      <td>1</td>\n      <td>0</td>\n      <td>[0.989577405379, 0.0104225946206]</td>\n      <td>19.000000</td>\n    </tr>\n    <tr>\n      <th>268</th>\n      <td>1</td>\n      <td>0</td>\n      <td>[0.965819660783, 0.0341803392166]</td>\n      <td>22.000000</td>\n    </tr>\n    <tr>\n      <th>269</th>\n      <td>1</td>\n      <td>1</td>\n      <td>[0.0541321113905, 0.94586788861]</td>\n      <td>29.699118</td>\n    </tr>\n    <tr>\n      <th>270</th>\n      <td>1</td>\n      <td>0</td>\n      <td>[0.931374606537, 0.0686253934635]</td>\n      <td>39.000000</td>\n    </tr>\n    <tr>\n      <th>271</th>\n      <td>1</td>\n      <td>1</td>\n      <td>[0.0133716545002, 0.9866283455]</td>\n      <td>24.000000</td>\n    </tr>\n    <tr>\n      <th>272</th>\n      <td>1</td>\n      <td>1</td>\n      <td>[0.0273396197861, 0.972660380214]</td>\n      <td>51.000000</td>\n    </tr>\n    <tr>\n      <th>273</th>\n      <td>1</td>\n      <td>0</td>\n      <td>[0.759456406146, 0.240543593854]</td>\n      <td>28.000000</td>\n    </tr>\n    <tr>\n      <th>274</th>\n      <td>1</td>\n      <td>1</td>\n      <td>[0.0500879434151, 0.949912056585]</td>\n      <td>34.000000</td>\n    </tr>\n    <tr>\n      <th>275</th>\n      <td>1</td>\n      <td>0</td>\n      <td>[0.792878044586, 0.207121955414]</td>\n      <td>42.000000</td>\n    </tr>\n    <tr>\n      <th>276</th>\n      <td>1</td>\n      <td>0</td>\n      <td>[0.655415189369, 0.344584810631]</td>\n      <td>4.000000</td>\n    </tr>\n  </tbody>\n</table>\n<p>277 rows \u00d7 4 columns</p>\n</div>", 
                        "text/plain": "     label  prediction                          probability        Age\n0        0           0  [0.999613489583, 0.000386510417427]   2.000000\n1        0           0  [0.999644110298, 0.000355889701929]   8.000000\n2        0           0   [0.999657951865, 0.00034204813521]  20.000000\n3        0           0   [0.998436179683, 0.00156382031652]  28.000000\n4        0           0  [0.999347061027, 0.000652938973184]  29.699118\n5        0           0   [0.998628063677, 0.00137193632339]  41.000000\n6        0           0   [0.998336286645, 0.00166371335485]  26.000000\n7        0           0   [0.997900287164, 0.00209971283563]  19.000000\n8        0           0    [0.970373984457, 0.0296260155427]  56.000000\n9        0           0    [0.989810861576, 0.0101891384241]  29.699118\n10       0           0   [0.999754866477, 0.00024513352259]   9.000000\n11       0           0  [0.999761519668, 0.000238480332033]  11.000000\n12       0           0  [0.999831995483, 0.000168004517101]  29.699118\n13       0           0   [0.998170733179, 0.00182926682091]  22.000000\n14       0           0   [0.998416704746, 0.00158329525402]  33.000000\n15       0           0   [0.994974300518, 0.00502569948167]  17.000000\n16       0           0  [0.999691620405, 0.000308379595107]   1.000000\n17       0           0   [0.999143073347, 0.00085692665275]   3.000000\n18       0           1    [0.0316869937016, 0.968313006298]  29.699118\n19       0           0    [0.998221608008, 0.0017783919915]  24.000000\n20       0           0     [0.98954001347, 0.0104599865299]  29.699118\n21       0           0  [0.999766495795, 0.000233504204947]   4.000000\n22       0           0  [0.999225200932, 0.000774799067679]  28.000000\n23       0           0     [0.629941017898, 0.370058982102]  29.699118\n24       0           0     [0.9965075864, 0.00349241360023]  29.699118\n25       0           0   [0.998311850726, 0.00168814927426]  29.699118\n26       0           0   [0.99952589604, 0.000474103960395]  21.000000\n27       0           0    [0.996009009713, 0.0039909902872]  29.699118\n28       0           0   [0.990338907346, 0.00966109265358]  24.000000\n29       0           0   [0.990469688829, 0.00953031117085]  25.000000\n..     ...         ...                                  ...        ...\n247      1           1    [0.00964548146011, 0.99035451854]  47.000000\n248      1           1    [0.0209539467916, 0.979046053208]  30.000000\n249      1           0    [0.964244427477, 0.0357555725234]  29.699118\n250      1           0    [0.939441017923, 0.0605589820773]  48.000000\n251      1           0       [0.58838657209, 0.41161342791]  58.000000\n252      1           1   [0.00750159653619, 0.992498403464]  35.000000\n253      1           0    [0.981964913862, 0.0180350861384]  33.000000\n254      1           0   [0.990672196751, 0.00932780324921]  27.000000\n255      1           0       [0.73663007636, 0.26336992364]  24.000000\n256      1           1    [0.0103800423884, 0.989619957612]  24.000000\n257      1           0     [0.606477528062, 0.393522471938]  29.000000\n258      1           0     [0.991283078246, 0.008716921754]  32.000000\n259      1           1     [0.017972324864, 0.982027675136]  16.000000\n260      1           0     [0.741216513646, 0.258783486354]  29.699118\n261      1           0    [0.989142879753, 0.0108571202465]  16.000000\n262      1           1    [0.0328635292121, 0.967136470788]  24.000000\n263      1           1     [0.257603914445, 0.742396085555]   0.830000\n264      1           0    [0.927359890493, 0.0726401095068]  35.000000\n265      1           0     [0.741241598949, 0.258758401051]  29.699118\n266      1           1       [0.30979999799, 0.69020000201]  22.000000\n267      1           0    [0.989577405379, 0.0104225946206]  19.000000\n268      1           0    [0.965819660783, 0.0341803392166]  22.000000\n269      1           1     [0.0541321113905, 0.94586788861]  29.699118\n270      1           0    [0.931374606537, 0.0686253934635]  39.000000\n271      1           1      [0.0133716545002, 0.9866283455]  24.000000\n272      1           1    [0.0273396197861, 0.972660380214]  51.000000\n273      1           0     [0.759456406146, 0.240543593854]  28.000000\n274      1           1    [0.0500879434151, 0.949912056585]  34.000000\n275      1           0     [0.792878044586, 0.207121955414]  42.000000\n276      1           0     [0.655415189369, 0.344584810631]   4.000000\n\n[277 rows x 4 columns]"
                    }, 
                    "output_type": "execute_result"
                }
            ], 
            "cell_type": "code"
        }, 
        {
            "execution_count": 103, 
            "metadata": {}, 
            "source": "from pyspark.ml.evaluation import BinaryClassificationEvaluator\n\n# Evaluate model\nevaluator = BinaryClassificationEvaluator(rawPredictionCol=\"rawPrediction\")\nevaluator.evaluate(predictions)", 
            "outputs": [
                {
                    "execution_count": 103, 
                    "metadata": {}, 
                    "data": {
                        "text/plain": "0.8261634199134199"
                    }, 
                    "output_type": "execute_result"
                }
            ], 
            "cell_type": "code"
        }, 
        {
            "execution_count": 104, 
            "metadata": {
                "collapsed": true
            }, 
            "source": "from pyspark.ml.tuning import ParamGridBuilder, CrossValidator\n\n# Create ParamGrid for Cross Validation\nparamGrid = (ParamGridBuilder()\n             .addGrid(lr.regParam, [0.01, 0.5, 2.0])\n             .addGrid(lr.elasticNetParam, [0.0, 0.5, 1.0])\n             .addGrid(lr.maxIter, [1, 5, 10])\n             .build())\n\n# Create 5-fold CrossValidator\ncv = CrossValidator(estimator=lr, estimatorParamMaps=paramGrid, evaluator=evaluator, numFolds=5)\n\n# Run cross validations\ncvModel = cv.fit(trainingData)\n# this will likely take a fair amount of time because of the amount of models that we're creating and testing", 
            "outputs": [], 
            "cell_type": "code"
        }, 
        {
            "execution_count": 144, 
            "metadata": {}, 
            "source": "# Use test set here so we can measure the accuracy of our model on new data\n\npredictions = cvModel.transform(testData)\n# cvModel uses the best model found from the Cross Validation\n# Evaluate best model\nevaluator.evaluate(predictions)", 
            "outputs": [
                {
                    "execution_count": 144, 
                    "metadata": {}, 
                    "data": {
                        "text/plain": "0.8411525974025977"
                    }, 
                    "output_type": "execute_result"
                }
            ], 
            "cell_type": "code"
        }, 
        {
            "execution_count": null, 
            "metadata": {
                "collapsed": true
            }, 
            "source": "\nfrom pyspark.ml.tuning import ParamGridBuilder, CrossValidator\n\n# Create ParamGrid for Cross Validation\nparamGrid = (ParamGridBuilder()\n             .addGrid(lr.regParam, [0.01, 0.5, 2.0])\n             .addGrid(lr.elasticNetParam, [0.0, 0.5, 1.0])\n             .addGrid(lr.maxIter, [1, 5, 10])\n             .build())", 
            "outputs": [], 
            "cell_type": "code"
        }, 
        {
            "execution_count": 105, 
            "metadata": {
                "collapsed": true
            }, 
            "source": "from pyspark.ml.classification import DecisionTreeClassifier\n\n# Create initial Decision Tree Model\ndt = DecisionTreeClassifier(labelCol=\"label\", featuresCol=\"features\", maxDepth=3)\n\n# Train model with Training Data\ndtModel = dt.fit(trainingData)", 
            "outputs": [], 
            "cell_type": "code"
        }, 
        {
            "execution_count": 106, 
            "metadata": {}, 
            "source": "print \"numNodes = \", dtModel.numNodes\nprint \"depth = \", dtModel.depth", 
            "outputs": [
                {
                    "name": "stdout", 
                    "output_type": "stream", 
                    "text": "numNodes =  15\ndepth =  3\n"
                }
            ], 
            "cell_type": "code"
        }, 
        {
            "execution_count": 108, 
            "metadata": {
                "collapsed": true
            }, 
            "source": "# Make predictions on test data using the Transformer.transform() method.\npredictions = dtModel.transform(testData)", 
            "outputs": [], 
            "cell_type": "code"
        }, 
        {
            "execution_count": 109, 
            "metadata": {}, 
            "source": "selected = predictions.select(\"label\", \"prediction\", \"probability\", \"Age\")\nselected.show()", 
            "outputs": [
                {
                    "name": "stdout", 
                    "output_type": "stream", 
                    "text": "+-----+----------+--------------------+-------------+\n|label|prediction|         probability|          Age|\n+-----+----------+--------------------+-------------+\n|  0.0|       0.0|[0.89473684210526...|          2.0|\n|  0.0|       0.0|[0.89473684210526...|          8.0|\n|  0.0|       0.0|[0.90977443609022...|         20.0|\n|  0.0|       0.0|[0.90977443609022...|         28.0|\n|  0.0|       0.0|[0.64864864864864...|29.6991176471|\n|  0.0|       0.0|[0.90977443609022...|         41.0|\n|  0.0|       0.0|[0.90977443609022...|         26.0|\n|  0.0|       0.0|[0.90977443609022...|         19.0|\n|  0.0|       0.0|[0.61458333333333...|         56.0|\n|  0.0|       0.0|[0.90977443609022...|29.6991176471|\n|  0.0|       0.0|[0.89473684210526...|          9.0|\n|  0.0|       0.0|[0.89473684210526...|         11.0|\n|  0.0|       0.0|[0.89473684210526...|29.6991176471|\n|  0.0|       0.0|[0.90977443609022...|         22.0|\n|  0.0|       0.0|[0.90977443609022...|         33.0|\n|  0.0|       0.0|[0.90977443609022...|         17.0|\n|  0.0|       0.0|[0.89473684210526...|          1.0|\n|  0.0|       0.0|[0.64864864864864...|          3.0|\n|  0.0|       0.0|[0.61458333333333...|29.6991176471|\n|  0.0|       0.0|[0.90977443609022...|         24.0|\n+-----+----------+--------------------+-------------+\nonly showing top 20 rows\n\n"
                }
            ], 
            "cell_type": "code"
        }, 
        {
            "execution_count": 110, 
            "metadata": {}, 
            "source": "from pyspark.ml.evaluation import BinaryClassificationEvaluator\n\n# Evaluate model\nevaluator = BinaryClassificationEvaluator()\nevaluator.evaluate(predictions)", 
            "outputs": [
                {
                    "execution_count": 110, 
                    "metadata": {}, 
                    "data": {
                        "text/plain": "0.8105248917748916"
                    }, 
                    "output_type": "execute_result"
                }
            ], 
            "cell_type": "code"
        }, 
        {
            "execution_count": 147, 
            "metadata": {
                "collapsed": true
            }, 
            "source": "from pyspark.ml.tuning import ParamGridBuilder, CrossValidator\n\nparamGrid = (ParamGridBuilder()\n             .addGrid(dt.maxDepth, [1,2,6,10])\n             .addGrid(dt.maxBins, [20,40,80])\n             .build())", 
            "outputs": [], 
            "cell_type": "code"
        }, 
        {
            "execution_count": 148, 
            "metadata": {
                "collapsed": true
            }, 
            "source": "# Create 5-fold CrossValidator\ncv = CrossValidator(estimator=dt, estimatorParamMaps=paramGrid, evaluator=evaluator, numFolds=5)\n\n# Run cross validations\ncvModel = cv.fit(trainingData)\n# Takes ~5 minutes", 
            "outputs": [], 
            "cell_type": "code"
        }, 
        {
            "execution_count": 149, 
            "metadata": {
                "collapsed": true
            }, 
            "source": "predictions = cvModel.transform(testData)", 
            "outputs": [], 
            "cell_type": "code"
        }, 
        {
            "execution_count": 150, 
            "metadata": {}, 
            "source": "evaluator.evaluate(predictions)", 
            "outputs": [
                {
                    "execution_count": 150, 
                    "metadata": {}, 
                    "data": {
                        "text/plain": "0.8286796536796538"
                    }, 
                    "output_type": "execute_result"
                }
            ], 
            "cell_type": "code"
        }, 
        {
            "execution_count": 111, 
            "metadata": {
                "collapsed": true
            }, 
            "source": "from pyspark.ml.classification import RandomForestClassifier\n\n# Create an initial RandomForest model.\nrf = RandomForestClassifier(labelCol=\"label\", featuresCol=\"features\")\n\n# Train model with Training Data\nrfModel = rf.fit(trainingData)", 
            "outputs": [], 
            "cell_type": "code"
        }, 
        {
            "execution_count": null, 
            "metadata": {
                "collapsed": true
            }, 
            "source": "# Create 5-fold CrossValidator\ncv = CrossValidator(estimator=dt, estimatorParamMaps=paramGrid, evaluator=evaluator, numFolds=5)\n\n# Run cross validations\ncvModel = cv.fit(trainingData)\n# Takes ~5 minutes", 
            "outputs": [], 
            "cell_type": "code"
        }, 
        {
            "execution_count": 112, 
            "metadata": {
                "collapsed": true
            }, 
            "source": "predictions = rfModel.transform(testData)", 
            "outputs": [], 
            "cell_type": "code"
        }, 
        {
            "execution_count": 113, 
            "metadata": {
                "scrolled": false
            }, 
            "source": "# View model's predictions and probabilities of each prediction class\nselected = predictions.select(\"label\", \"prediction\", \"probability\", \"Age\")\nselected.show()", 
            "outputs": [
                {
                    "name": "stdout", 
                    "output_type": "stream", 
                    "text": "+-----+----------+--------------------+-------------+\n|label|prediction|         probability|          Age|\n+-----+----------+--------------------+-------------+\n|  0.0|       0.0|[0.58874019640607...|          2.0|\n|  0.0|       0.0|[0.63262317512948...|          8.0|\n|  0.0|       0.0|[0.745650043772,0...|         20.0|\n|  0.0|       0.0|[0.73875796953007...|         28.0|\n|  0.0|       0.0|[0.54303780107835...|29.6991176471|\n|  0.0|       0.0|[0.73875796953007...|         41.0|\n|  0.0|       0.0|[0.73875796953007...|         26.0|\n|  0.0|       0.0|[0.745650043772,0...|         19.0|\n|  0.0|       0.0|[0.58090732758633...|         56.0|\n|  0.0|       0.0|[0.61407854340958...|29.6991176471|\n|  0.0|       0.0|[0.62941686660526...|          9.0|\n|  0.0|       0.0|[0.66083221052060...|         11.0|\n|  0.0|       0.0|[0.66083221052060...|29.6991176471|\n|  0.0|       0.0|[0.745650043772,0...|         22.0|\n|  0.0|       0.0|[0.745650043772,0...|         33.0|\n|  0.0|       0.0|[0.68029827143309...|         17.0|\n|  0.0|       0.0|[0.58553388788185...|          1.0|\n|  0.0|       0.0|[0.54084585795039...|          3.0|\n|  0.0|       0.0|[0.54611470085822...|29.6991176471|\n|  0.0|       0.0|[0.745650043772,0...|         24.0|\n+-----+----------+--------------------+-------------+\nonly showing top 20 rows\n\n"
                }
            ], 
            "cell_type": "code"
        }, 
        {
            "execution_count": 114, 
            "metadata": {}, 
            "source": "from pyspark.ml.evaluation import BinaryClassificationEvaluator\n\n# Evaluate model\nevaluator = BinaryClassificationEvaluator()\nevaluator.evaluate(predictions)", 
            "outputs": [
                {
                    "execution_count": 114, 
                    "metadata": {}, 
                    "data": {
                        "text/plain": "0.8195616883116882"
                    }, 
                    "output_type": "execute_result"
                }
            ], 
            "cell_type": "code"
        }, 
        {
            "execution_count": 152, 
            "metadata": {
                "collapsed": true
            }, 
            "source": "# Create ParamGrid for Cross Validation\nfrom pyspark.ml.tuning import ParamGridBuilder, CrossValidator\n\nparamGrid = (ParamGridBuilder()\n             .addGrid(rf.maxDepth, [2, 4, 6])\n             .addGrid(rf.maxBins, [20, 60])\n             .addGrid(rf.numTrees, [5, 20])\n             .build())", 
            "outputs": [], 
            "cell_type": "code"
        }, 
        {
            "execution_count": 153, 
            "metadata": {
                "collapsed": true
            }, 
            "source": "# Create 5-fold CrossValidator\ncv = CrossValidator(estimator=rf, estimatorParamMaps=paramGrid, evaluator=evaluator, numFolds=5)\n\n# Run cross validations.  This can take about 6 minutes since it is training over 20 trees!\ncvModel = cv.fit(trainingData)", 
            "outputs": [], 
            "cell_type": "code"
        }, 
        {
            "execution_count": 154, 
            "metadata": {
                "collapsed": true
            }, 
            "source": "predictions = cvModel.transform(testData)", 
            "outputs": [], 
            "cell_type": "code"
        }, 
        {
            "execution_count": 155, 
            "metadata": {}, 
            "source": "evaluator.evaluate(predictions)", 
            "outputs": [
                {
                    "execution_count": 155, 
                    "metadata": {}, 
                    "data": {
                        "text/plain": "0.8270833333333332"
                    }, 
                    "output_type": "execute_result"
                }
            ], 
            "cell_type": "code"
        }, 
        {
            "execution_count": 156, 
            "metadata": {}, 
            "source": "from pyspark.ml.classification import NaiveBayes\nnb = NaiveBayes(smoothing=1.0, modelType=\"multinomial\", weightCol='Survived')\n\n# train the model\nmodel = nb.fit(trainingData)", 
            "outputs": [], 
            "cell_type": "code"
        }, 
        {
            "execution_count": 157, 
            "metadata": {
                "collapsed": true
            }, 
            "source": "predictions = model.transform(testData)", 
            "outputs": [], 
            "cell_type": "code"
        }, 
        {
            "execution_count": 159, 
            "metadata": {}, 
            "source": "# View model's predictions and probabilities of each prediction class\nselected = predictions.select(\"label\", \"prediction\", \"probability\", \"Fare\")\nselected.show()", 
            "outputs": [
                {
                    "name": "stdout", 
                    "output_type": "stream", 
                    "text": "+-----+----------+--------------------+-------+\n|label|prediction|         probability|   Fare|\n+-----+----------+--------------------+-------+\n|  0.0|       1.0|[1.84504312137990...| 29.125|\n|  0.0|       1.0|[1.31611270530997...| 29.125|\n|  0.0|       1.0|[7.94509507056686...| 9.8458|\n|  0.0|       1.0|[1.25071302379326...|  7.925|\n|  0.0|       1.0|[2.15211063696365...|25.4667|\n|  0.0|       1.0|[1.29784348506983...|14.1083|\n|  0.0|       1.0|[4.15126982470329...| 7.8542|\n|  0.0|       1.0|[8.93302492659600...|    0.0|\n|  0.0|       1.0|[3.82696437112595...|30.6958|\n|  0.0|       1.0|[5.48903364609699...|   26.0|\n|  0.0|       1.0|[1.35752051933497...|   46.9|\n|  0.0|       1.0|[5.63000252710607...|   46.9|\n|  0.0|       1.0|[4.98268484065482...|  69.55|\n|  0.0|       1.0|[3.05735634798281...| 7.7958|\n|  0.0|       1.0|[2.42249562090087...| 8.6542|\n|  0.0|       1.0|[1.06605970718637...| 7.2292|\n|  0.0|       1.0|[3.24379940207277...|39.6875|\n|  0.0|       1.0|[9.27820258059291...| 21.075|\n|  0.0|       1.0|[1.14981026364878...|30.6958|\n|  0.0|       1.0|[9.47106249803039...| 7.4958|\n+-----+----------+--------------------+-------+\nonly showing top 20 rows\n\n"
                }
            ], 
            "cell_type": "code"
        }, 
        {
            "execution_count": 160, 
            "metadata": {}, 
            "source": "evaluator.evaluate(predictions)", 
            "outputs": [
                {
                    "execution_count": 160, 
                    "metadata": {}, 
                    "data": {
                        "text/plain": "0.46298701298701317"
                    }, 
                    "output_type": "execute_result"
                }
            ], 
            "cell_type": "code"
        }
    ]
}